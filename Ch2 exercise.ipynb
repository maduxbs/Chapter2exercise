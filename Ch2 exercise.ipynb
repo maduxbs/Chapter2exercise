{
 "cells": [
  {
   "cell_type": "markdown",
   "id": "46eb3b67",
   "metadata": {},
   "source": [
    "## Algorith Workbench - number 3 \n",
    "\n",
    "You will see how to function cell and syntax aproprinate show to my work here from below. "
   ]
  },
  {
   "cell_type": "code",
   "execution_count": 66,
   "id": "ce19708b",
   "metadata": {},
   "outputs": [],
   "source": [
    "b = a + 2"
   ]
  },
  {
   "cell_type": "markdown",
   "id": "671c93be",
   "metadata": {},
   "source": [
    "1. Adds 2 to 'a' and assigns the result to 'b'.\n",
    "\n",
    "To add a number to another number or variable, the arithmetic operator (+) is used using the following syntax;\n",
    "\n",
    "[number] [+] [other number]\n",
    "\n",
    "In our case, the number is variable a and the other number is 2. Therefore, to add these numbers together we write;\n",
    "\n",
    "a + 2;\n",
    "\n",
    "Also, assignment in programming languages is done using the (=) operator. For example to assign a number k to a variable m, we write;\n",
    "\n",
    "m = k\n",
    "\n",
    "In our case, the result (a + 2) from above is assigned to variable b as follows; => b = a + 2"
   ]
  },
  {
   "cell_type": "code",
   "execution_count": 67,
   "id": "61c1444c",
   "metadata": {},
   "outputs": [],
   "source": [
    "a = b * 4"
   ]
  },
  {
   "cell_type": "markdown",
   "id": "e86ab036",
   "metadata": {},
   "source": [
    "2. Multiplies 'b' times 4 and assigns the result to 'a'.\n",
    "\n",
    "To multiply a number by another number or variable, the arithmetic operator (*) is used using the following syntax;\n",
    "\n",
    "[number] [*] [other number]\n",
    "\n",
    "In our case, the number is variable b and the other number is 4. Therefore, to multiply these numbers we write;\n",
    "\n",
    "b * 4;\n",
    "\n",
    "Also,\n",
    "\n",
    "In our case, the result (b * 4) from above is assigned to variable a as follows;\n",
    "\n",
    "=> a = b * 4"
   ]
  },
  {
   "cell_type": "code",
   "execution_count": 68,
   "id": "940e2206",
   "metadata": {},
   "outputs": [],
   "source": [
    "b = a /3.14"
   ]
  },
  {
   "cell_type": "markdown",
   "id": "ed0e0204",
   "metadata": {},
   "source": [
    "3. Divides 'a' by 3.14 and assigns the result to 'b'.\n",
    "\n",
    "To divide a number by another number or variable, the arithmetic operator (/) is used using the following syntax;\n",
    "\n",
    "[number] [/] [other number]\n",
    "\n",
    "In our case, the number is variable a and the other number is 3.14. Therefore, to divide these numbers we write;\n",
    "\n",
    "a / 3.14;\n",
    "\n",
    "Also,\n",
    "\n",
    "In our case, the result (a / 3.14) from above is assigned to variable b as follows;\n",
    "\n",
    "=> b = a / 3.14"
   ]
  },
  {
   "cell_type": "code",
   "execution_count": 70,
   "id": "4b157157",
   "metadata": {},
   "outputs": [],
   "source": [
    "a = b - 8"
   ]
  },
  {
   "cell_type": "markdown",
   "id": "bd0aaec1",
   "metadata": {},
   "source": [
    "4. Subtracts 8 from 'b' and assigns the result to 'a'.\n",
    "\n",
    "To subtract a number from another number or variable, the arithmetic operator (-) is used using the following syntax;\n",
    "\n",
    "[other number] [-] [number]\n",
    "\n",
    "In our case, the number is 8 and the other variable is b. Therefore, to subtract these numbers we write;\n",
    "\n",
    "b - 8;\n",
    "\n",
    "Also,\n",
    "\n",
    "In our case, the result (b - 8) from above is assigned to variable a as follows;\n",
    "\n",
    "=> a = b - 8"
   ]
  },
  {
   "cell_type": "markdown",
   "id": "c7b775cd",
   "metadata": {},
   "source": [
    "## Ex4"
   ]
  },
  {
   "cell_type": "code",
   "execution_count": 75,
   "id": "a4bb1a5d",
   "metadata": {},
   "outputs": [],
   "source": [
    "result = 4 + 8\n",
    "result = 12"
   ]
  },
  {
   "cell_type": "markdown",
   "id": "a8d3e9af",
   "metadata": {},
   "source": [
    "Given the initial values of 'x' and 'Y' (x=4 and y=8), when you execute the statement 'result = x + y', the result will be: \n",
    "So, after the statement 'result = x + y' executes, the 'result' variable will hold the value 12. "
   ]
  },
  {
   "cell_type": "code",
   "execution_count": 76,
   "id": "790fcd3e",
   "metadata": {},
   "outputs": [],
   "source": [
    "result = 2 * 2\n",
    "result = 4"
   ]
  },
  {
   "cell_type": "markdown",
   "id": "5d5c0d69",
   "metadata": {},
   "source": [
    "Given the initial value of 'z' (z=2), when you execute the statement 'result = z * 2', the result will be: \n",
    "So, after the statement 'result = z * 2' executes, the 'result' variable will hold the value 4."
   ]
  },
  {
   "cell_type": "code",
   "execution_count": 77,
   "id": "89963382",
   "metadata": {},
   "outputs": [],
   "source": [
    "result = 8 / 4\n",
    "result = 2.0"
   ]
  },
  {
   "cell_type": "markdown",
   "id": "ed962c7f",
   "metadata": {},
   "source": [
    "Given the initial values of 'x' and 'y' (x = 4 and y = 8), when you execute the statement result = y / x, the result will be: \n",
    "So, after the statement result = y / x executes, the 'result' variable will hold the value 2.0. It's important to note that in Python, when you perform division with the / operator, even if the result is a whole number, it's stored as a float to maintain precision."
   ]
  },
  {
   "cell_type": "code",
   "execution_count": 78,
   "id": "31da907d",
   "metadata": {},
   "outputs": [],
   "source": [
    "result = 8 - 2\n",
    "result = 6"
   ]
  },
  {
   "cell_type": "markdown",
   "id": "5a1ca1e3",
   "metadata": {},
   "source": [
    "Given the initial values of 'y' and 'z' (y = 8 and z = 2), when you execute the statement result = y - z, the result will be:\n",
    "So, after the statement result = y - z executes, the 'result' variable will hold the value 6."
   ]
  },
  {
   "cell_type": "code",
   "execution_count": 79,
   "id": "fe5a772e",
   "metadata": {},
   "outputs": [],
   "source": [
    "result = 5 // 2\n",
    "result = 2"
   ]
  },
  {
   "cell_type": "markdown",
   "id": "0c692ccd",
   "metadata": {},
   "source": [
    "Given the initial values of 'w' and 'z' (w = 5 and z = 2), when you execute the statement result = w // z, the result will be: \n",
    "    So, after the statement result = w // z executes, the 'result' variable will hold the value 2.\n",
    "\n",
    "The // operator is used for floor division in Python, which means it performs division and rounds down the result to the nearest integer."
   ]
  },
  {
   "cell_type": "markdown",
   "id": "f67d56e9",
   "metadata": {},
   "source": [
    "## Ex13  "
   ]
  },
  {
   "cell_type": "code",
   "execution_count": null,
   "id": "9d61d526",
   "metadata": {},
   "outputs": [],
   "source": [
    "import turtle\n",
    "\n",
    "# Create a Turtle object\n",
    "t = turtle.Turtle()\n",
    "\n",
    "# Draw a circle with a radius of 75 pixels\n",
    "t.circle(75)\n",
    "\n",
    "# Close the Turtle Graphics window on click\n",
    "turtle.exitonclick()"
   ]
  },
  {
   "cell_type": "markdown",
   "id": "b916a22d",
   "metadata": {},
   "source": [
    "Here's an explanation of what each part of this code does:\n",
    "\n",
    "1.'import turtle: This imports the Turtle Graphics library in Python.\n",
    "\n",
    "2.'t = turtle.Turtle(): This creates a Turtle object named 't' that you can use to draw shapes.\n",
    "\n",
    "3.'t.circle(75): This command instructs the Turtle to draw a circle with a radius of 75 pixels. The '75' argument specifies the radius.\n",
    "\n",
    "4.'turtle.exitonclick(): This keeps the Turtle Graphics window open until you click on it. It's a convenient way to keep the window open after drawing your shape.\n",
    "\n",
    "\n",
    "When you run this code, it will create a Turtle Graphics window, and you will see a circle with a radius of 75 pixels drawn in it. You can close the window by clicking on it."
   ]
  }
 ],
 "metadata": {
  "kernelspec": {
   "display_name": "Python 3 (ipykernel)",
   "language": "python",
   "name": "python3"
  },
  "language_info": {
   "codemirror_mode": {
    "name": "ipython",
    "version": 3
   },
   "file_extension": ".py",
   "mimetype": "text/x-python",
   "name": "python",
   "nbconvert_exporter": "python",
   "pygments_lexer": "ipython3",
   "version": "3.11.4"
  }
 },
 "nbformat": 4,
 "nbformat_minor": 5
}
